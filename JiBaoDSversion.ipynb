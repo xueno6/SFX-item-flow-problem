{
 "cells": [
  {
   "cell_type": "code",
   "execution_count": 1,
   "metadata": {},
   "outputs": [
    {
     "data": {
      "text/plain": [
       "22545489.5"
      ]
     },
     "execution_count": 1,
     "metadata": {},
     "output_type": "execute_result"
    }
   ],
   "source": [
    "#middle value between best and worst \n",
    "(2.377262100000e+07 + 2.131835800000e+07)/2"
   ]
  },
  {
   "cell_type": "code",
   "execution_count": 2,
   "metadata": {},
   "outputs": [],
   "source": [
    "from fullplan_best import fullplan_best\n",
    "from fullplan_merit import fullplan_merit\n",
    "from fullplan_worst import fullplan_worst"
   ]
  },
  {
   "cell_type": "code",
   "execution_count": 3,
   "metadata": {
    "collapsed": true
   },
   "outputs": [
    {
     "name": "stdout",
     "output_type": "stream",
     "text": [
      "Set parameter Username\n",
      "Academic license - for non-commercial use only - expires 2024-07-31\n",
      "Set parameter MIPGap to value 1e-07\n",
      "Set parameter TimeLimit to value 300\n",
      "Gurobi Optimizer version 9.5.1 build v9.5.1rc2 (win64)\n",
      "Thread count: 6 physical cores, 12 logical processors, using up to 12 threads\n",
      "Optimize a model with 253474 rows, 240824 columns and 835436 nonzeros\n",
      "Model fingerprint: 0x6d087f31\n",
      "Variable types: 0 continuous, 240824 integer (240824 binary)\n",
      "Coefficient statistics:\n",
      "  Matrix range     [1e+00, 1e+00]\n",
      "  Objective range  [2e+00, 6e+05]\n",
      "  Bounds range     [1e+00, 1e+00]\n",
      "  RHS range        [1e+00, 8e+01]\n",
      "Presolve removed 96794 rows and 94704 columns\n",
      "Presolve time: 2.11s\n",
      "Presolved: 156680 rows, 146120 columns, 523815 nonzeros\n",
      "Variable types: 0 continuous, 146120 integer (146120 binary)\n",
      "Found heuristic solution: objective 6.402188e+07\n",
      "\n",
      "Deterministic concurrent LP optimizer: primal and dual simplex\n",
      "Showing first log only...\n",
      "\n",
      "Warning: Markowitz tolerance tightened to 0.5\n",
      "\n",
      "Root simplex log...\n",
      "\n",
      "Iteration    Objective       Primal Inf.    Dual Inf.      Time\n",
      "   90197    2.2476795e+07   2.363850e-04   1.252764e+08      5s\n",
      "Concurrent spin time: 0.02s\n",
      "\n",
      "Solved with dual simplex\n",
      "\n",
      "Root relaxation: objective 2.131814e+07, 58073 iterations, 3.51 seconds (2.40 work units)\n",
      "\n",
      "    Nodes    |    Current Node    |     Objective Bounds      |     Work\n",
      " Expl Unexpl |  Obj  Depth IntInf | Incumbent    BestBd   Gap | It/Node Time\n",
      "\n",
      "     0     0 2.1318e+07    0  419 6.4022e+07 2.1318e+07  66.7%     -    6s\n",
      "H    0     0                    2.136113e+07 2.1318e+07  0.20%     -    6s\n",
      "H    0     0                    2.133286e+07 2.1318e+07  0.07%     -    6s\n",
      "H    0     0                    2.133219e+07 2.1318e+07  0.07%     -    7s\n",
      "     0     0 2.1318e+07    0  218 2.1332e+07 2.1318e+07  0.07%     -    7s\n",
      "H    0     0                    2.132045e+07 2.1318e+07  0.01%     -    8s\n",
      "H    0     0                    2.131916e+07 2.1318e+07  0.00%     -    8s\n",
      "H    0     0                    2.131856e+07 2.1318e+07  0.00%     -    8s\n",
      "     0     0 2.1318e+07    0  221 2.1319e+07 2.1318e+07  0.00%     -    9s\n",
      "     0     0 2.1318e+07    0   22 2.1319e+07 2.1318e+07  0.00%     -   10s\n",
      "H    0     0                    2.131842e+07 2.1318e+07  0.00%     -   11s\n",
      "     0     0 2.1318e+07    0  263 2.1318e+07 2.1318e+07  0.00%     -   11s\n",
      "     0     0 2.1318e+07    0  212 2.1318e+07 2.1318e+07  0.00%     -   12s\n",
      "H    0     0                    2.131838e+07 2.1318e+07  0.00%     -   12s\n",
      "     0     0 2.1318e+07    0   57 2.1318e+07 2.1318e+07  0.00%     -   12s\n",
      "     0     0 2.1318e+07    0   37 2.1318e+07 2.1318e+07  0.00%     -   12s\n",
      "H    0     0                    2.131836e+07 2.1318e+07  0.00%     -   12s\n",
      "\n",
      "Cutting planes:\n",
      "  Gomory: 2\n",
      "  Clique: 1\n",
      "  Zero half: 4\n",
      "  RLT: 3\n",
      "\n",
      "Explored 1 nodes (74238 simplex iterations) in 12.64 seconds (9.08 work units)\n",
      "Thread count was 12 (of 12 available processors)\n",
      "\n",
      "Solution count 10: 2.13184e+07 2.13184e+07 2.13184e+07 ... 2.13192e+07\n",
      "\n",
      "Optimal solution found (tolerance 1.00e-07)\n",
      "Best objective 2.131835850000e+07, best bound 2.131835675000e+07, gap 0.0000%\n"
     ]
    }
   ],
   "source": [
    "#最优\n",
    "fullplan_best=fullplan_best()"
   ]
  },
  {
   "cell_type": "code",
   "execution_count": 57,
   "metadata": {},
   "outputs": [],
   "source": [
    "#中间方案\n",
    "fullplan_merit=fullplan_merit()"
   ]
  },
  {
   "cell_type": "code",
   "execution_count": 74,
   "metadata": {},
   "outputs": [],
   "source": [
    "#全整包\n",
    "fullplan_worst=fullplan_worst()"
   ]
  },
  {
   "cell_type": "code",
   "execution_count": 95,
   "metadata": {},
   "outputs": [],
   "source": [
    "fullplan_best['fullplan'] = fullplan_best['fullplan'].apply(frozenset)\n",
    "fullplan_merit['fullplan'] = fullplan_merit['fullplan'].apply(frozenset)\n",
    "fullplan_worst['fullplan'] = fullplan_worst['fullplan'].apply(frozenset)\n",
    "# assume df1, df2, df3 are your three pandas DataFrames\n",
    "# to find common rows among all three dataframes\n",
    "common_rows = pd.merge(fullplan_best, fullplan_merit, how='inner')\n",
    "common_rows = pd.merge(common_rows, fullplan_worst, how='inner')"
   ]
  },
  {
   "cell_type": "code",
   "execution_count": 149,
   "metadata": {
    "collapsed": true
   },
   "outputs": [
    {
     "data": {
      "text/html": [
       "<div>\n",
       "<style scoped>\n",
       "    .dataframe tbody tr th:only-of-type {\n",
       "        vertical-align: middle;\n",
       "    }\n",
       "\n",
       "    .dataframe tbody tr th {\n",
       "        vertical-align: top;\n",
       "    }\n",
       "\n",
       "    .dataframe thead th {\n",
       "        text-align: right;\n",
       "    }\n",
       "</style>\n",
       "<table border=\"1\" class=\"dataframe\">\n",
       "  <thead>\n",
       "    <tr style=\"text-align: right;\">\n",
       "      <th></th>\n",
       "      <th>code</th>\n",
       "      <th>fullplan</th>\n",
       "      <th>cnt</th>\n",
       "      <th>FastRequest</th>\n",
       "      <th>NormalRequest</th>\n",
       "      <th>extra</th>\n",
       "    </tr>\n",
       "  </thead>\n",
       "  <tbody>\n",
       "    <tr>\n",
       "      <th>0</th>\n",
       "      <td>node_01_A</td>\n",
       "      <td>((node_01_A, node_11_C))</td>\n",
       "      <td>1</td>\n",
       "      <td>0</td>\n",
       "      <td>1121</td>\n",
       "      <td>0.0</td>\n",
       "    </tr>\n",
       "    <tr>\n",
       "      <th>1</th>\n",
       "      <td>node_01_A</td>\n",
       "      <td>((node_01_A, node_04_C))</td>\n",
       "      <td>1</td>\n",
       "      <td>0</td>\n",
       "      <td>1716</td>\n",
       "      <td>0.0</td>\n",
       "    </tr>\n",
       "    <tr>\n",
       "      <th>2</th>\n",
       "      <td>node_01_A</td>\n",
       "      <td>((node_01_A, node_04_A))</td>\n",
       "      <td>1</td>\n",
       "      <td>0</td>\n",
       "      <td>3819</td>\n",
       "      <td>0.0</td>\n",
       "    </tr>\n",
       "    <tr>\n",
       "      <th>3</th>\n",
       "      <td>node_01_A</td>\n",
       "      <td>((node_01_A, node_09_B))</td>\n",
       "      <td>1</td>\n",
       "      <td>0</td>\n",
       "      <td>1928</td>\n",
       "      <td>0.0</td>\n",
       "    </tr>\n",
       "    <tr>\n",
       "      <th>4</th>\n",
       "      <td>node_01_A</td>\n",
       "      <td>((node_01_A, node_26_C))</td>\n",
       "      <td>1</td>\n",
       "      <td>0</td>\n",
       "      <td>1061</td>\n",
       "      <td>0.0</td>\n",
       "    </tr>\n",
       "    <tr>\n",
       "      <th>...</th>\n",
       "      <td>...</td>\n",
       "      <td>...</td>\n",
       "      <td>...</td>\n",
       "      <td>...</td>\n",
       "      <td>...</td>\n",
       "      <td>...</td>\n",
       "    </tr>\n",
       "    <tr>\n",
       "      <th>6848</th>\n",
       "      <td>node_27_C</td>\n",
       "      <td>((node_27_C, node_11_B))</td>\n",
       "      <td>1</td>\n",
       "      <td>752</td>\n",
       "      <td>0</td>\n",
       "      <td>1.0</td>\n",
       "    </tr>\n",
       "    <tr>\n",
       "      <th>6849</th>\n",
       "      <td>node_27_C</td>\n",
       "      <td>((node_27_C, node_01_B))</td>\n",
       "      <td>1</td>\n",
       "      <td>615</td>\n",
       "      <td>0</td>\n",
       "      <td>1.0</td>\n",
       "    </tr>\n",
       "    <tr>\n",
       "      <th>6850</th>\n",
       "      <td>node_27_C</td>\n",
       "      <td>((node_27_C, node_15_C))</td>\n",
       "      <td>1</td>\n",
       "      <td>805</td>\n",
       "      <td>0</td>\n",
       "      <td>1.0</td>\n",
       "    </tr>\n",
       "    <tr>\n",
       "      <th>6851</th>\n",
       "      <td>node_27_C</td>\n",
       "      <td>((node_27_C, node_12_A))</td>\n",
       "      <td>1</td>\n",
       "      <td>563</td>\n",
       "      <td>0</td>\n",
       "      <td>1.0</td>\n",
       "    </tr>\n",
       "    <tr>\n",
       "      <th>6852</th>\n",
       "      <td>node_27_C</td>\n",
       "      <td>((node_27_C, node_03_B))</td>\n",
       "      <td>1</td>\n",
       "      <td>209</td>\n",
       "      <td>0</td>\n",
       "      <td>1.0</td>\n",
       "    </tr>\n",
       "  </tbody>\n",
       "</table>\n",
       "<p>6853 rows × 6 columns</p>\n",
       "</div>"
      ],
      "text/plain": [
       "           code                  fullplan cnt FastRequest NormalRequest extra\n",
       "0     node_01_A  ((node_01_A, node_11_C))   1           0          1121   0.0\n",
       "1     node_01_A  ((node_01_A, node_04_C))   1           0          1716   0.0\n",
       "2     node_01_A  ((node_01_A, node_04_A))   1           0          3819   0.0\n",
       "3     node_01_A  ((node_01_A, node_09_B))   1           0          1928   0.0\n",
       "4     node_01_A  ((node_01_A, node_26_C))   1           0          1061   0.0\n",
       "...         ...                       ...  ..         ...           ...   ...\n",
       "6848  node_27_C  ((node_27_C, node_11_B))   1         752             0   1.0\n",
       "6849  node_27_C  ((node_27_C, node_01_B))   1         615             0   1.0\n",
       "6850  node_27_C  ((node_27_C, node_15_C))   1         805             0   1.0\n",
       "6851  node_27_C  ((node_27_C, node_12_A))   1         563             0   1.0\n",
       "6852  node_27_C  ((node_27_C, node_03_B))   1         209             0   1.0\n",
       "\n",
       "[6853 rows x 6 columns]"
      ]
     },
     "execution_count": 149,
     "metadata": {},
     "output_type": "execute_result"
    }
   ],
   "source": [
    "#至始至终没有动过的打包方案\n",
    "common_rows"
   ]
  },
  {
   "cell_type": "code",
   "execution_count": 150,
   "metadata": {},
   "outputs": [],
   "source": [
    "# 踢出common rows/参与优化的打包方案\n",
    "fullplan_best_arranged = fullplan_best.loc[fullplan_best.merge(common_rows, indicator='i', how='left')['i'].apply(lambda x: x != 'both').values,:]\n",
    "fullplan_merit_arranged = fullplan_merit.loc[fullplan_merit.merge(common_rows, indicator='i', how='left')['i'].apply(lambda x: x != 'both').values,:]\n",
    "fullplan_worst_arranged = fullplan_worst.loc[fullplan_worst.merge(common_rows, indicator='i', how='left')['i'].apply(lambda x: x != 'both').values,:]\n"
   ]
  },
  {
   "cell_type": "code",
   "execution_count": null,
   "metadata": {},
   "outputs": [],
   "source": [
    "#计算普通包 非零项 平均值"
   ]
  },
  {
   "cell_type": "code",
   "execution_count": 201,
   "metadata": {},
   "outputs": [
    {
     "data": {
      "text/plain": [
       "639.0761968981793"
      ]
     },
     "execution_count": 201,
     "metadata": {},
     "output_type": "execute_result"
    }
   ],
   "source": [
    "fullplan_worst_arranged[fullplan_worst_arranged['NormalRequest'] != 0]['NormalRequest'].mean()"
   ]
  },
  {
   "cell_type": "code",
   "execution_count": 200,
   "metadata": {
    "scrolled": true
   },
   "outputs": [
    {
     "data": {
      "text/plain": [
       "1865.5180265654649"
      ]
     },
     "execution_count": 200,
     "metadata": {},
     "output_type": "execute_result"
    }
   ],
   "source": [
    "fullplan_merit_arranged[fullplan_merit_arranged['NormalRequest'] != 0]['NormalRequest'].mean()"
   ]
  },
  {
   "cell_type": "code",
   "execution_count": 198,
   "metadata": {},
   "outputs": [
    {
     "data": {
      "text/plain": [
       "2403.912937347437"
      ]
     },
     "execution_count": 198,
     "metadata": {},
     "output_type": "execute_result"
    }
   ],
   "source": [
    "fullplan_best_arranged[fullplan_best_arranged['NormalRequest'] != 0]['NormalRequest'].mean()"
   ]
  },
  {
   "cell_type": "code",
   "execution_count": 199,
   "metadata": {},
   "outputs": [
    {
     "data": {
      "text/plain": [
       "3045.708270676692"
      ]
     },
     "execution_count": 199,
     "metadata": {},
     "output_type": "execute_result"
    }
   ],
   "source": [
    "common_rows[common_rows['NormalRequest'] != 0]['NormalRequest'].mean()"
   ]
  },
  {
   "cell_type": "code",
   "execution_count": null,
   "metadata": {},
   "outputs": [],
   "source": [
    "#计算快包 非零项 平均值"
   ]
  },
  {
   "cell_type": "code",
   "execution_count": 202,
   "metadata": {},
   "outputs": [
    {
     "data": {
      "text/plain": [
       "282.2454663212435"
      ]
     },
     "execution_count": 202,
     "metadata": {},
     "output_type": "execute_result"
    }
   ],
   "source": [
    "fullplan_worst_arranged[fullplan_worst_arranged['FastRequest'] != 0]['FastRequest'].mean()"
   ]
  },
  {
   "cell_type": "code",
   "execution_count": 203,
   "metadata": {},
   "outputs": [
    {
     "data": {
      "text/plain": [
       "618.8829084041548"
      ]
     },
     "execution_count": 203,
     "metadata": {},
     "output_type": "execute_result"
    }
   ],
   "source": [
    "fullplan_merit_arranged[fullplan_merit_arranged['FastRequest'] != 0]['FastRequest'].mean()"
   ]
  },
  {
   "cell_type": "code",
   "execution_count": 204,
   "metadata": {},
   "outputs": [
    {
     "data": {
      "text/plain": [
       "926.7947368421053"
      ]
     },
     "execution_count": 204,
     "metadata": {},
     "output_type": "execute_result"
    }
   ],
   "source": [
    "fullplan_best_arranged[fullplan_best_arranged['FastRequest'] != 0]['FastRequest'].mean()"
   ]
  },
  {
   "cell_type": "code",
   "execution_count": 205,
   "metadata": {},
   "outputs": [
    {
     "data": {
      "text/plain": [
       "133.86426526717557"
      ]
     },
     "execution_count": 205,
     "metadata": {},
     "output_type": "execute_result"
    }
   ],
   "source": [
    "common_rows[common_rows['FastRequest'] != 0]['FastRequest'].mean()"
   ]
  },
  {
   "cell_type": "code",
   "execution_count": null,
   "metadata": {},
   "outputs": [],
   "source": [
    "# 快包占用额外打包流向数"
   ]
  },
  {
   "cell_type": "code",
   "execution_count": 211,
   "metadata": {},
   "outputs": [
    {
     "data": {
      "text/plain": [
       "130.0"
      ]
     },
     "execution_count": 211,
     "metadata": {},
     "output_type": "execute_result"
    }
   ],
   "source": [
    "sum(fullplan_best_arranged[fullplan_best_arranged['FastRequest'] != 0]['extra'])"
   ]
  },
  {
   "cell_type": "code",
   "execution_count": 213,
   "metadata": {},
   "outputs": [
    {
     "data": {
      "text/plain": [
       "412.0"
      ]
     },
     "execution_count": 213,
     "metadata": {},
     "output_type": "execute_result"
    }
   ],
   "source": [
    "sum(fullplan_merit_arranged[fullplan_merit_arranged['FastRequest'] != 0]['extra'])"
   ]
  },
  {
   "cell_type": "code",
   "execution_count": 214,
   "metadata": {},
   "outputs": [
    {
     "data": {
      "text/plain": [
       "1073.0"
      ]
     },
     "execution_count": 214,
     "metadata": {},
     "output_type": "execute_result"
    }
   ],
   "source": [
    "sum(fullplan_worst_arranged[fullplan_worst_arranged['FastRequest'] != 0]['extra'])"
   ]
  },
  {
   "cell_type": "code",
   "execution_count": 212,
   "metadata": {},
   "outputs": [
    {
     "data": {
      "text/plain": [
       "3854.0"
      ]
     },
     "execution_count": 212,
     "metadata": {},
     "output_type": "execute_result"
    }
   ],
   "source": [
    "sum(common_rows[common_rows['FastRequest'] != 0]['extra'])"
   ]
  },
  {
   "cell_type": "code",
   "execution_count": 175,
   "metadata": {},
   "outputs": [],
   "source": [
    "# save to csv\n",
    "\n",
    "fullplan_best['fullplan']=fullplan_best['fullplan'].apply(list)\n",
    "fullplan_merit['fullplan'] = fullplan_merit['fullplan'].apply(list)\n",
    "fullplan_worst['fullplan'] = fullplan_worst['fullplan'].apply(list)\n",
    "fullplan_merit.to_csv('fullplan_merit.csv',index=False)\n",
    "fullplan_worst.to_csv('fullplan_worst.csv',index=False)\n",
    "fullplan_best.to_csv('fullplan_best.csv',index=False)\n",
    "common_rows['fullplan']=common_rows['fullplan'].apply(list)\n",
    "common_rows.to_csv('common_rows.csv',index=False)"
   ]
  }
 ],
 "metadata": {
  "kernelspec": {
   "display_name": "Python 3 (ipykernel)",
   "language": "python",
   "name": "python3"
  },
  "language_info": {
   "codemirror_mode": {
    "name": "ipython",
    "version": 3
   },
   "file_extension": ".py",
   "mimetype": "text/x-python",
   "name": "python",
   "nbconvert_exporter": "python",
   "pygments_lexer": "ipython3",
   "version": "3.9.13"
  }
 },
 "nbformat": 4,
 "nbformat_minor": 4
}
